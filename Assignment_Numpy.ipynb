{
 "cells": [
  {
   "cell_type": "markdown",
   "id": "3b13b729-8dc6-499c-b052-fe3ae3455b6a",
   "metadata": {},
   "source": [
    "# Assignment : Numpy"
   ]
  },
  {
   "cell_type": "markdown",
   "id": "10a2fea9-ba9a-4e41-b272-910dbcb5ff34",
   "metadata": {},
   "source": [
    "# Theoretical Questions:"
   ]
  },
  {
   "cell_type": "markdown",
   "id": "ee0cdff8-8935-4017-9011-89535129180f",
   "metadata": {},
   "source": [
    "# 1. Explain the purpose and advantages of NumPy in scientific computing and data analysis. How does it enhance Python's capabilities for numerical operations?"
   ]
  },
  {
   "cell_type": "markdown",
   "id": "8a9c297a-f04d-4587-99b9-ae83eba88073",
   "metadata": {},
   "source": [
    "### -> NumPy (Numerical Python) is a powerful library in Python primarily used for numerical operations, scientific computing, and data analysis. Its core purpose is to enable efficient manipulation of large, multi-dimensional arrays and matrices, along with the mathematical functions needed to operate on these data structures."
   ]
  },
  {
   "cell_type": "markdown",
   "id": "8164e15c-ce9b-4aaf-887f-fc60f7781755",
   "metadata": {},
   "source": [
    "##  Purpose of NumPy:\n",
    "### N-Dimensional Array (ndarray): The primary data structure in NumPy is the ndarray, which allows for the creation and manipulation of multi-dimensional arrays with ease.\n",
    "### Broadcasting: NumPy supports broadcasting, which simplifies arithmetic operations on arrays of different shapes.\n",
    "### Vectorization: Operations on arrays in NumPy are highly optimized and executed in a vectorized manner, significantly speeding up mathematical computations by avoiding loops in Python.\n",
    "### Linear Algebra Operations: NumPy provides extensive support for linear algebra functions, including matrix multiplication, eigenvalues, and vector norms.\n",
    "### Random Sampling and Statistical Functions: It includes tools for generating random numbers and performing statistical operations on data.\n",
    "### Interoperability with C/C++ and Fortran: NumPy allows integration with low-level languages like C, C++, and Fortran, improving performance when handling very large datasets."
   ]
  },
  {
   "cell_type": "markdown",
   "id": "b22cecc5-2062-4e3e-9cfa-dbb3c7caa333",
   "metadata": {},
   "source": [
    "## Advantages of NumPy\n",
    "### Performance:\n",
    "\n",
    "### Efficient memory use: NumPy arrays are more memory-efficient than traditional Python lists because they store data contiguously and use fixed data types.\n",
    "### Speed: NumPy operations are executed much faster than equivalent operations in pure Python due to its underlying C implementation. It eliminates the need for loops, enabling performance gains.\n",
    "### Convenient Data Structures: The ndarray structure enables the efficient handling of multi-dimensional arrays and matrices, making it ideal for complex scientific computing tasks.\n",
    "### Mathematical Functions:NumPy offers a comprehensive set of mathematical operations, including matrix manipulations, element-wise operations, and broadcasting. These operations are optimized to work seamlessly on entire arrays at once, which reduces the need for writing explicit loops.\n"
   ]
  },
  {
   "cell_type": "markdown",
   "id": "4a36632a-2439-4f6c-92f8-0bd5eeeb26c6",
   "metadata": {},
   "source": [
    "# 2. Compare and contrast np.mean() and np.average() functions in NumPy. When would you use one over the other?"
   ]
  },
  {
   "cell_type": "markdown",
   "id": "ebc46ce1-68eb-475a-86f8-9f6fdef308fe",
   "metadata": {},
   "source": [
    "### Both np.mean() and np.average() in NumPy are used to compute the central tendency of a dataset, but they differ in how they compute the result, particularly in terms of weighting and functionality. Here is a detailed comparison of the two:\n",
    "\n",
    "## 1. np.mean()\n",
    "### Purpose:\n",
    "\n",
    "### The np.mean() function computes the arithmetic mean (average) of the elements along a specified axis or of the entire array if no axis is provided.\n",
    "## Usage:\n",
    "\n",
    "### Syntax: np.mean(a, axis=None, dtype=None, out=None, keepdims=False)\n",
    "### Example:"
   ]
  },
  {
   "cell_type": "code",
   "execution_count": 2,
   "id": "e7f619c9-0137-4b8d-a8a1-ffe81cd35a3d",
   "metadata": {},
   "outputs": [],
   "source": [
    "import numpy as np"
   ]
  },
  {
   "cell_type": "code",
   "execution_count": 4,
   "id": "c84863ba-e9ed-4b55-8a7b-14816ea707c2",
   "metadata": {},
   "outputs": [],
   "source": [
    "a = np.array([1,2,3,4,5])\n",
    "c = np.mean(a)"
   ]
  },
  {
   "cell_type": "code",
   "execution_count": 6,
   "id": "76490a00-c62d-46df-bcdf-576310b2cdee",
   "metadata": {},
   "outputs": [
    {
     "name": "stdout",
     "output_type": "stream",
     "text": [
      "3.0\n"
     ]
    }
   ],
   "source": [
    "print(c)"
   ]
  },
  {
   "cell_type": "markdown",
   "id": "c5136714-8d05-4281-9279-ccbd9c0dd95c",
   "metadata": {},
   "source": [
    "## 2. np.average()\n",
    "### Purpose:\n",
    "\n",
    "### The np.average() function can also compute the arithmetic mean, but with the added capability to compute a weighted average if weights are provided.\n",
    "### Usage:\n",
    "\n",
    "### Syntax: np.average(a, axis=None, weights=None, returned=False)\n",
    "### Example:"
   ]
  },
  {
   "cell_type": "code",
   "execution_count": 9,
   "id": "43f5760a-d6c9-44d6-8b76-7e1658aa064a",
   "metadata": {},
   "outputs": [],
   "source": [
    "a = np.array([1,2,3,4,5])\n",
    "c = np.average(a, weights = [1,2,3,4,5])"
   ]
  },
  {
   "cell_type": "code",
   "execution_count": 11,
   "id": "7a993895-c8c3-41ba-91de-47d604ea9515",
   "metadata": {},
   "outputs": [
    {
     "name": "stdout",
     "output_type": "stream",
     "text": [
      "3.6666666666666665\n"
     ]
    }
   ],
   "source": [
    "print(c)"
   ]
  },
  {
   "cell_type": "markdown",
   "id": "59d18cce-a26d-40bd-b8ca-41454da7ef37",
   "metadata": {},
   "source": [
    "# 3. Describe the methods for reversing a NumPy array along different axes. Provide examples for 1D and 2D arrays."
   ]
  },
  {
   "cell_type": "markdown",
   "id": "301b66df-acde-4d04-8d1f-3280874ee8fa",
   "metadata": {},
   "source": [
    "## 1. Reversing a 1D Array\n",
    "### For a 1D array, reversing is simple and can be done using slicing. You specify the step size of -1 in the slice to reverse the elements.\n",
    "### Example:"
   ]
  },
  {
   "cell_type": "code",
   "execution_count": 14,
   "id": "6643653c-c54f-42f3-9b50-4ac11480d4e6",
   "metadata": {},
   "outputs": [
    {
     "data": {
      "text/plain": [
       "array([5, 4, 3, 2, 1])"
      ]
     },
     "execution_count": 14,
     "metadata": {},
     "output_type": "execute_result"
    }
   ],
   "source": [
    "arr1 = np.array([1,2,3,4,5])\n",
    "arr1[::-1]"
   ]
  },
  {
   "cell_type": "markdown",
   "id": "66c4d7b2-725d-4f9a-ba1b-eb67cbedfaca",
   "metadata": {},
   "source": [
    "## 2. Reversing a 2D Array\n",
    "### In a 2D array, you can reverse along different axes:\n",
    "\n",
    "### Reverse rows (axis 0)\n",
    "### Reverse columns (axis 1)\n",
    "### Reverse both axes (complete reversal)"
   ]
  },
  {
   "cell_type": "code",
   "execution_count": 22,
   "id": "ccb45979-433b-4093-8f1e-e760d9512e25",
   "metadata": {},
   "outputs": [
    {
     "data": {
      "text/plain": [
       "array([[3, 5, 2],\n",
       "       [3, 5, 3],\n",
       "       [4, 4, 3]], dtype=int32)"
      ]
     },
     "execution_count": 22,
     "metadata": {},
     "output_type": "execute_result"
    }
   ],
   "source": [
    "arr2 = np.random.randint(2,6,(3,3))\n",
    "arr2"
   ]
  },
  {
   "cell_type": "code",
   "execution_count": 25,
   "id": "a81c2012-8de8-44c4-8b4b-c95e97d279f7",
   "metadata": {},
   "outputs": [
    {
     "data": {
      "text/plain": [
       "array([[4, 4, 3],\n",
       "       [3, 5, 3],\n",
       "       [3, 5, 2]], dtype=int32)"
      ]
     },
     "execution_count": 25,
     "metadata": {},
     "output_type": "execute_result"
    }
   ],
   "source": [
    "# reverse rows\n",
    "arr2[::-1,:]"
   ]
  },
  {
   "cell_type": "code",
   "execution_count": 26,
   "id": "a4091b81-20f7-4dde-b940-c26d43789c83",
   "metadata": {},
   "outputs": [
    {
     "data": {
      "text/plain": [
       "array([[2, 5, 3],\n",
       "       [3, 5, 3],\n",
       "       [3, 4, 4]], dtype=int32)"
      ]
     },
     "execution_count": 26,
     "metadata": {},
     "output_type": "execute_result"
    }
   ],
   "source": [
    "# reverse columns\n",
    "arr2[:,::-1]"
   ]
  },
  {
   "cell_type": "code",
   "execution_count": 27,
   "id": "05e50632-7a01-4d42-b119-106f496dbe7c",
   "metadata": {},
   "outputs": [
    {
     "data": {
      "text/plain": [
       "array([[3, 4, 4],\n",
       "       [3, 5, 3],\n",
       "       [2, 5, 3]], dtype=int32)"
      ]
     },
     "execution_count": 27,
     "metadata": {},
     "output_type": "execute_result"
    }
   ],
   "source": [
    "# reverse both axis\n",
    "arr2[::-1,::-1]"
   ]
  },
  {
   "cell_type": "markdown",
   "id": "c188bace-dc89-4751-9bf7-41158e6fef0d",
   "metadata": {},
   "source": [
    "# 4. How can you determine the data type of elements in a NumPy array? Discuss the importance of data types in memory management and performance."
   ]
  },
  {
   "cell_type": "markdown",
   "id": "e395d43e-e1b8-4d90-bc71-48484a27a957",
   "metadata": {},
   "source": [
    "## Determining the Data Type of Elements in a NumPy Array\n",
    "### To determine the data type of elements in a NumPy array, you can use the dtype attribute, which provides information about the type of data stored in the array.\n",
    "\n",
    "### Example:"
   ]
  },
  {
   "cell_type": "code",
   "execution_count": 28,
   "id": "975ea35d-fabd-4aa8-9097-46680848f809",
   "metadata": {},
   "outputs": [
    {
     "data": {
      "text/plain": [
       "dtype('int64')"
      ]
     },
     "execution_count": 28,
     "metadata": {},
     "output_type": "execute_result"
    }
   ],
   "source": [
    "arr = np.array([1,2,3,4])\n",
    "arr.dtype"
   ]
  },
  {
   "cell_type": "markdown",
   "id": "64399555-1852-4894-9d00-9eadc17a630d",
   "metadata": {},
   "source": [
    "## Importance of Data Types in Memory Management and Performance\n",
    "### Data types (or dtype in NumPy) play a crucial role in how NumPy arrays are stored in memory and how efficiently operations can be performed on them. Here's why they matter:\n",
    "\n",
    "## 1. Memory Management\n",
    "### Each data type in NumPy has a specific memory requirement. For instance:\n",
    "\n",
    "### int8: 1 byte (8 bits) per element\n",
    "### int32: 4 bytes (32 bits) per element\n",
    "### float64: 8 bytes (64 bits) per element"
   ]
  },
  {
   "cell_type": "markdown",
   "id": "0848e362-dc55-4ad1-b30d-a3919203a1e9",
   "metadata": {},
   "source": [
    "## 2. Performance\n",
    "### The data type affects how efficiently NumPy can perform operations. NumPy is optimized for performance by using fixed data types and contiguous memory allocation, which enables it to perform operations in a vectorized way and interact efficiently with lower-level languages like C.\n",
    "\n",
    "### Faster Computations: Smaller data types (e.g., int8, float32) require fewer bytes, meaning operations on these arrays may be faster than on larger data types like int64 or float64. This can make a significant difference in performance when working with large datasets.\n",
    "### Efficient Use of CPU Caches: Smaller data types allow more data to fit into the CPU cache, reducing memory access times and improving computational efficiency."
   ]
  },
  {
   "cell_type": "markdown",
   "id": "d54c8bb0-8387-4788-a8b4-635b224b84b8",
   "metadata": {},
   "source": [
    "# 5. Define ndarrays in NumPy and explain their key features. How do they differ from standard Python lists?"
   ]
  },
  {
   "cell_type": "markdown",
   "id": "e9700b04-08f9-43b3-8ea0-9149ad971082",
   "metadata": {},
   "source": [
    "### An ndarray (N-dimensional array) is the core data structure in NumPy. It is a powerful, flexible container for multi-dimensional homogeneous data, meaning all elements in the array are of the same data type. An ndarray can have any number of dimensions (1D, 2D, 3D, etc.), making it useful for a wide range of applications in scientific computing, data analysis, and machine learni"
   ]
  },
  {
   "cell_type": "markdown",
   "id": "90e638f4-7f7d-4f01-98a1-5aa3495c8760",
   "metadata": {},
   "source": [
    "## Key Features of NumPy ndarray\n",
    "## Homogeneous Data Types:\n",
    "\n",
    "### All elements in an ndarray have the same data type (e.g., integers, floats, booleans). This enables efficient memory use and fast computations.\n",
    "### The data type of an ndarray is specified using the dtype attribute, and NumPy supports a variety of types such as int32, float64, bool, etc.\n",
    "## N-Dimensional:\n",
    "\n",
    "### ndarray can handle multi-dimensional data. You can create arrays of arbitrary dimensions, such as 1D (vector), 2D (matrix), or higher dimensions like 3D, 4D, etc.\n",
    "### The shape attribute describes the dimensions of the array (e.g., for a 2D array with 3 rows and 4 columns, shape would be (3, 4)).\n",
    "## Efficient Memory Management:\n",
    "\n",
    "### ndarray stores data in contiguous memory blocks, which allows efficient access and manipulation of array elements. This makes NumPy arrays significantly faster than Python lists for numerical computations.\n",
    "### The memory footprint of an ndarray is fixed and smaller compared to Python lists because the data is stored compactly without additional overhead.\n",
    "## Broadcasting:\n",
    "\n",
    "### NumPy arrays support broadcasting, which allows you to perform arithmetic operations on arrays of different shapes without explicitly reshaping them. This simplifies array operations, such as adding a scalar to a matrix or element-wise operations between arrays of different sizes.\n",
    "## Mathematical Functions:\n",
    "\n",
    "### NumPy provides a wide range of mathematical functions (e.g., trigonometric, exponential, statistical) that can be applied directly to ndarray objects.\n",
    "## Shape Manipulation:\n",
    "\n",
    "### ndarray allows you to reshape, transpose, and flatten arrays easily using functions like reshape(), T, and ravel(). This flexibility makes it easier to handle multi-dimensional data."
   ]
  },
  {
   "cell_type": "markdown",
   "id": "bf307db2-0241-4235-9a1a-1432b941d15e",
   "metadata": {},
   "source": [
    "## How ndarray Differs from Standard Python Lists"
   ]
  },
  {
   "cell_type": "markdown",
   "id": "3b32b750-5243-4dc1-bb1a-e8d710ec786f",
   "metadata": {},
   "source": [
    "### NumPy ndarray is optimized for numerical computations with homogeneous, multi-dimensional data, offering efficient memory usage, fast performance, and support for vectorized operations.\n",
    "### Python lists, on the other hand, are more flexible with heterogeneous data, but they are less efficient for large-scale numerical or scientific computing tasks."
   ]
  },
  {
   "cell_type": "markdown",
   "id": "20541dfe-2ea5-4008-b46e-43b1a23379fa",
   "metadata": {},
   "source": [
    "# 6. Analyze the performance benefits of NumPy arrays over Python lists for large-scale numerical operations."
   ]
  },
  {
   "cell_type": "markdown",
   "id": "631d8ec5-d60c-4197-8ef6-e2aff43d7458",
   "metadata": {},
   "source": [
    "## Performance Benefits of NumPy Arrays Over Python Lists for Large-Scale Numerical Operations"
   ]
  },
  {
   "cell_type": "markdown",
   "id": "bf23cd38-284f-4e2b-94a6-dd28aee11682",
   "metadata": {},
   "source": [
    "### NumPy arrays (or ndarray) are optimized for high-performance numerical operations, whereas Python lists are more general-purpose and flexible but much slower for numerical tasks. Below are key reasons why NumPy arrays outperform Python lists when it comes to large-scale numerical operations:"
   ]
  },
  {
   "cell_type": "markdown",
   "id": "8c610b64-8eff-4d52-8a40-d1d59dfc8c30",
   "metadata": {},
   "source": [
    "## 1. Memory Efficiency :"
   ]
  },
  {
   "cell_type": "markdown",
   "id": "5f5d263d-f562-45cf-a766-e81bbae6d2df",
   "metadata": {},
   "source": [
    "### Fixed Data Type (Homogeneous): In NumPy arrays, all elements have the same data type, allowing for more compact storage in contiguous memory blocks. This reduces the memory overhead compared to Python lists, where each element is a Python object with additional metadata (e.g., type information and references).\n",
    "\n",
    "### Contiguous Memory Layout: NumPy arrays are stored in contiguous memory blocks, unlike Python lists, which store elements in scattered memory locations. This contiguous layout improves cache locality, meaning that accessing elements is faster because they are stored next to each other in memory."
   ]
  },
  {
   "cell_type": "markdown",
   "id": "b8057fdd-cda7-438f-8169-a780736dbbc6",
   "metadata": {},
   "source": [
    "## 2. Advanced Indexing and Slicing (Views, Not Copies)\n",
    "### Memory Views: When slicing a NumPy array, NumPy returns a view of the original data rather than creating a copy. This allows efficient memory use since no new data is allocated. In contrast, Python lists create copies when sliced, which uses more memory and increases processing time.\n",
    "\n",
    "### Efficient Element Access: Due to the contiguous memory layout and low-level optimizations, accessing elements in a NumPy array is faster than accessing elements in a Python list, especially in large datasets."
   ]
  },
  {
   "cell_type": "markdown",
   "id": "97a6a78b-40a8-413a-a0fa-9bad91994d7a",
   "metadata": {},
   "source": [
    "## 3. Support for Mathematical Functions\n",
    "### Efficient Math Operations: NumPy comes with built-in mathematical functions (e.g., trigonometric, statistical, linear algebra) that are optimized for use with arrays. These functions are written in C and Fortran, making them far faster than similar operations performed using loops in Python lists.\n",
    "\n",
    "### Bulk Operations: NumPy allows for bulk mathematical operations on entire arrays (e.g., sum, mean, standard deviation) in a single command, without needing to iterate over individual elements. Python lists require manual iteration, which slows down these operations significantly."
   ]
  },
  {
   "cell_type": "markdown",
   "id": "cc9807b2-357b-4d84-85c9-af7c21060ba3",
   "metadata": {},
   "source": [
    "# 7. Compare vstack() and hstack() functions in NumPy. Provide examples demonstrating their usage and output."
   ]
  },
  {
   "cell_type": "markdown",
   "id": "d8304e4a-bfc1-4f7a-a9ce-c0c3e9fe2fe3",
   "metadata": {},
   "source": [
    "## In NumPy, the vstack() and hstack() functions are used to stack arrays along different axes. While both functions combine arrays, they do so in different orientations:\n",
    "\n",
    "### 1. vstack() (Vertical Stack): Stacks arrays vertically (row-wise), increasing the number of rows.\n",
    "### 2. hstack() (Horizontal Stack): Stacks arrays horizontally (column-wise), increasing the number of columns."
   ]
  },
  {
   "cell_type": "markdown",
   "id": "e10995b8-f66f-47aa-927c-f9bc238515bd",
   "metadata": {},
   "source": [
    "## 1. vstack() (Vertical Stack)\n",
    "### Purpose: Stack arrays vertically (row-wise). The arrays being stacked must have the same number of columns (i.e., the same second dimension).\n",
    "### Example:"
   ]
  },
  {
   "cell_type": "code",
   "execution_count": 29,
   "id": "6cce0897-8fcb-492f-8869-afcb36367e4c",
   "metadata": {},
   "outputs": [
    {
     "name": "stdout",
     "output_type": "stream",
     "text": [
      "[[1 2 3]\n",
      " [4 5 6]]\n"
     ]
    }
   ],
   "source": [
    "arr1 = np.array([1, 2, 3])\n",
    "arr2 = np.array([4, 5, 6])\n",
    "\n",
    "result_vstack = np.vstack((arr1, arr2))\n",
    "print(result_vstack)"
   ]
  },
  {
   "cell_type": "markdown",
   "id": "c188f5ce-42de-46fc-bb43-bc394103fb07",
   "metadata": {},
   "source": [
    "## 2. hstack() (Horizontal Stack)"
   ]
  },
  {
   "cell_type": "markdown",
   "id": "48542b1e-f893-4377-8931-d1d9a900ace4",
   "metadata": {},
   "source": [
    "### Purpose: Stack arrays horizontally (column-wise). The arrays must have the same number of rows (i.e., the same first dimension).\n",
    "### Example:"
   ]
  },
  {
   "cell_type": "code",
   "execution_count": 30,
   "id": "3995a859-dfc4-495b-90be-469f2a8b16ea",
   "metadata": {},
   "outputs": [
    {
     "name": "stdout",
     "output_type": "stream",
     "text": [
      "[1 2 3 4 5 6]\n"
     ]
    }
   ],
   "source": [
    "arr1 = np.array([1, 2, 3])\n",
    "arr2 = np.array([4, 5, 6])\n",
    "\n",
    "result_hstack = np.hstack((arr1, arr2))\n",
    "print(result_hstack)"
   ]
  },
  {
   "cell_type": "markdown",
   "id": "dba88a8e-0398-46ba-9e6b-61df5ad542db",
   "metadata": {},
   "source": [
    "# 8. Explain the differences between fliplr() and flipud() methods in NumPy, including their effects on various array dimensions. "
   ]
  },
  {
   "cell_type": "markdown",
   "id": "9714c07d-d6aa-4ba7-ae86-cb271075191f",
   "metadata": {},
   "source": [
    "## Key Differences between fliplr() and flipud()"
   ]
  },
  {
   "cell_type": "markdown",
   "id": "0520c718-dcae-491e-934a-c669ed8df03f",
   "metadata": {},
   "source": [
    "## 1. fliplr() (Flip Left-Right)\n",
    "### Purpose: fliplr() reverses the elements of a 2D array horizontally (along the columns), flipping the array from left to right. This means that the first column becomes the last column, the second column becomes the second-to-last column, and so on.\n",
    "\n",
    "### Effect: fliplr() only works on 2D arrays (or higher dimensions where the second axis is flipped). For 1D arrays, using fliplr() will raise an error."
   ]
  },
  {
   "cell_type": "markdown",
   "id": "31fd1fd5-5932-4eb1-b87b-ee35974281a0",
   "metadata": {},
   "source": [
    "## 2. flipud() (Flip Up-Down)\n",
    "### Purpose: flipud() reverses the elements of a 2D array vertically (along the rows), flipping the array from top to bottom. This means the first row becomes the last row, the second row becomes the second-to-last row, and so on.\n",
    "\n",
    "### Effect: flipud() works on both 1D and 2D arrays. In a 2D array, it flips the rows, and in a 1D array, it reverses the elements."
   ]
  },
  {
   "cell_type": "markdown",
   "id": "2b929299-11fe-4e3e-a92f-c6a4fdb2b7ef",
   "metadata": {},
   "source": [
    "# 9. Discuss the functionality of the array_split() method in NumPy. How does it handle uneven splits?"
   ]
  },
  {
   "cell_type": "markdown",
   "id": "5b3172a8-c825-459d-b258-1f35df6e6ff0",
   "metadata": {},
   "source": [
    "## array_split() in NumPy\n",
    "### The array_split() function in NumPy is used to split an array into multiple sub-arrays. Unlike its counterpart, split(), array_split() can handle uneven splits by dividing the array into sections of varying sizes if the array cannot be split evenly."
   ]
  },
  {
   "cell_type": "markdown",
   "id": "c821f0a7-965e-4026-acec-7c7fa9625495",
   "metadata": {},
   "source": [
    "### Syntax : numpy.array_split(ary, indices_or_sections, axis=0)"
   ]
  },
  {
   "cell_type": "markdown",
   "id": "7e287a7d-61dd-4ed4-858b-bf6c8ff80b77",
   "metadata": {},
   "source": [
    "## How array_split() Handles Uneven Splits:\n",
    "### When the input array cannot be split into equal parts, array_split() ensures that all sub-arrays are as equal in size as possible. It distributes the remainder evenly among the earlier splits.\n",
    "\n",
    "### If the number of elements in the array is not divisible by the number of sections:\n",
    "### Some sub-arrays will have more elements than others.\n",
    "### The function creates sub-arrays of nearly equal size, and the first few sub-arrays will have one extra element."
   ]
  },
  {
   "cell_type": "markdown",
   "id": "2ba77326-4a43-4e69-8430-73475cf75693",
   "metadata": {},
   "source": [
    "# 10. Explain the concepts of vectorization and broadcasting in NumPy. How do they contribute to efficient array operations?"
   ]
  },
  {
   "cell_type": "markdown",
   "id": "c9ab7e74-10ec-495f-adb5-1ce3a983a569",
   "metadata": {},
   "source": [
    "## Vectorization in NumPy"
   ]
  },
  {
   "cell_type": "markdown",
   "id": "42e0dd37-ab84-4b9a-8087-dcbe1c6e31d1",
   "metadata": {},
   "source": [
    "### Vectorization refers to the process of applying operations to entire arrays (or vectors) element-wise without the need for explicit loops.\n",
    "\n",
    "### Example:"
   ]
  },
  {
   "cell_type": "code",
   "execution_count": 31,
   "id": "a8d0bfbf-3c57-4301-a898-2bdca55ff642",
   "metadata": {},
   "outputs": [
    {
     "name": "stdout",
     "output_type": "stream",
     "text": [
      "[ 6  8 10 12]\n"
     ]
    }
   ],
   "source": [
    "arr1 = np.array([1, 2, 3, 4])\n",
    "arr2 = np.array([5, 6, 7, 8])\n",
    "\n",
    "result = arr1 + arr2\n",
    "print(result)"
   ]
  },
  {
   "cell_type": "markdown",
   "id": "6f5512d7-0518-4854-8fd8-f9c980b8a122",
   "metadata": {},
   "source": [
    "## Broadcasting in NumPy"
   ]
  },
  {
   "cell_type": "markdown",
   "id": "93a84be3-7a8a-41fc-a6d9-feb644904b3b",
   "metadata": {},
   "source": [
    "### Broadcasting is a powerful feature in NumPy that allows operations on arrays of different shapes, treating smaller arrays as if they have the same shape as the larger one. Broadcasting enables arithmetic operations between arrays of unequal sizes, without making copies of the smaller arrays.\n",
    "\n",
    "### Example:"
   ]
  },
  {
   "cell_type": "code",
   "execution_count": 32,
   "id": "d1e69b6b-447b-4ec6-8ea9-a033aa1aa2c9",
   "metadata": {},
   "outputs": [
    {
     "name": "stdout",
     "output_type": "stream",
     "text": [
      "[[11 22 33]\n",
      " [14 25 36]\n",
      " [17 28 39]]\n"
     ]
    }
   ],
   "source": [
    "arr1 = np.array([[1, 2, 3], \n",
    "                 [4, 5, 6], \n",
    "                 [7, 8, 9]])\n",
    "\n",
    "arr2 = np.array([10, 20, 30])\n",
    "result = arr1 + arr2\n",
    "print(result)"
   ]
  },
  {
   "cell_type": "markdown",
   "id": "22027215-7870-4cb4-b737-f160be027116",
   "metadata": {},
   "source": [
    "# Practical Questions:"
   ]
  },
  {
   "cell_type": "markdown",
   "id": "995c7497-bcf2-4b6b-a5af-ed8dd2c38fd3",
   "metadata": {},
   "source": [
    "# 1. Create a 3x3 NumPy array with random integers between 1 and 100. Then, interchange its rows and columns."
   ]
  },
  {
   "cell_type": "code",
   "execution_count": 34,
   "id": "965ad9d3-292a-4840-af49-fdbd489a35d3",
   "metadata": {},
   "outputs": [
    {
     "name": "stdout",
     "output_type": "stream",
     "text": [
      "[[99 12 70]\n",
      " [29 56  2]\n",
      " [93 86 52]]\n"
     ]
    }
   ],
   "source": [
    "# creating numpy aray with random integer between 1 and 100\n",
    "arr1 = np.random.randint(1,100,(3,3))\n",
    "print(arr1)"
   ]
  },
  {
   "cell_type": "code",
   "execution_count": 35,
   "id": "be0d7565-4fa0-42ac-8993-9dca2dad3f92",
   "metadata": {},
   "outputs": [
    {
     "name": "stdout",
     "output_type": "stream",
     "text": [
      "[[52 86 93]\n",
      " [ 2 56 29]\n",
      " [70 12 99]]\n"
     ]
    }
   ],
   "source": [
    "# interchanging rows and columns\n",
    "result = arr1[::-1,::-1]\n",
    "print(result)"
   ]
  },
  {
   "cell_type": "markdown",
   "id": "81b55640-798f-46cf-ba42-5bbf7f131ba2",
   "metadata": {},
   "source": [
    "# 2. Generate a 1D NumPy array with 10 elements. Reshape it into a 2x5 array, then into a 5x2 array."
   ]
  },
  {
   "cell_type": "code",
   "execution_count": 36,
   "id": "1dbe93b5-852b-4a17-9ba1-5daa46f1b0fe",
   "metadata": {},
   "outputs": [
    {
     "name": "stdout",
     "output_type": "stream",
     "text": [
      "[9 5 5 8 5 6 5 9 1 3]\n"
     ]
    }
   ],
   "source": [
    "arr1 = np.random.randint(1,10,10)\n",
    "print(arr1)"
   ]
  },
  {
   "cell_type": "code",
   "execution_count": 38,
   "id": "2f6fb7e8-9ab4-4456-87b3-c6fa4e289148",
   "metadata": {},
   "outputs": [
    {
     "data": {
      "text/plain": [
       "array([[9, 5, 5, 8, 5],\n",
       "       [6, 5, 9, 1, 3]], dtype=int32)"
      ]
     },
     "execution_count": 38,
     "metadata": {},
     "output_type": "execute_result"
    }
   ],
   "source": [
    "# reshaping it into 2x5\n",
    "np.reshape(arr1,(2,5))"
   ]
  },
  {
   "cell_type": "code",
   "execution_count": 39,
   "id": "49d65784-d08c-4287-bf4e-b86292fc3b23",
   "metadata": {},
   "outputs": [
    {
     "data": {
      "text/plain": [
       "array([[9, 5],\n",
       "       [5, 8],\n",
       "       [5, 6],\n",
       "       [5, 9],\n",
       "       [1, 3]], dtype=int32)"
      ]
     },
     "execution_count": 39,
     "metadata": {},
     "output_type": "execute_result"
    }
   ],
   "source": [
    "# reshaping it into 5x2\n",
    "np.reshape(arr1,(5,2))"
   ]
  },
  {
   "cell_type": "markdown",
   "id": "faa97d7e-7533-44af-bf71-a213f55d0200",
   "metadata": {},
   "source": [
    "# 3. Create a 4x4 NumPy array with random float values. Add a border of zeros around it, resulting in a 6x6 array"
   ]
  },
  {
   "cell_type": "code",
   "execution_count": 43,
   "id": "6a4dacb5-4bdc-408a-bfa1-70ca94cd68ac",
   "metadata": {},
   "outputs": [
    {
     "name": "stdout",
     "output_type": "stream",
     "text": [
      "[[0.44208242 0.82610602 0.20344164 0.31750372]\n",
      " [0.33981478 0.35024198 0.06845173 0.61908783]\n",
      " [0.21208082 0.61292038 0.60520384 0.16267945]\n",
      " [0.12264141 0.00838475 0.56165937 0.12898745]]\n"
     ]
    }
   ],
   "source": [
    "# creating 4x4 numpy array with random float values\n",
    "arr1 = np.random.rand(4,4)\n",
    "print(arr1)"
   ]
  },
  {
   "cell_type": "code",
   "execution_count": 45,
   "id": "e7013e90-df04-4901-ae1d-d879c57cf251",
   "metadata": {},
   "outputs": [
    {
     "name": "stdout",
     "output_type": "stream",
     "text": [
      "[[0.         0.         0.         0.         0.         0.        ]\n",
      " [0.         0.44208242 0.82610602 0.20344164 0.31750372 0.        ]\n",
      " [0.         0.33981478 0.35024198 0.06845173 0.61908783 0.        ]\n",
      " [0.         0.21208082 0.61292038 0.60520384 0.16267945 0.        ]\n",
      " [0.         0.12264141 0.00838475 0.56165937 0.12898745 0.        ]\n",
      " [0.         0.         0.         0.         0.         0.        ]]\n"
     ]
    }
   ],
   "source": [
    "# adding a border of zeros around it.\n",
    "borderd_arr = np.pad(arr1, pad_width=1, mode='constant', constant_values= 0)\n",
    "print(borderd_arr)"
   ]
  },
  {
   "cell_type": "markdown",
   "id": "9a719437-9813-4b24-b3d4-777ed57857fd",
   "metadata": {},
   "source": [
    "# 4. Using NumPy, create an array of integers from 10 to 60 with a step of 5."
   ]
  },
  {
   "cell_type": "code",
   "execution_count": 47,
   "id": "7fb3e432-7f0e-4b9d-8b80-eb013ea7ea93",
   "metadata": {},
   "outputs": [
    {
     "name": "stdout",
     "output_type": "stream",
     "text": [
      "[10 15 20 25 30 35 40 45 50 55]\n"
     ]
    }
   ],
   "source": [
    "arr1 = np.arange(10,60,5)\n",
    "print(arr1)"
   ]
  },
  {
   "cell_type": "markdown",
   "id": "549185f8-de8d-4425-8253-7dafd8f17ec5",
   "metadata": {},
   "source": [
    "# 5. Create a NumPy array of strings ['python', 'numpy', 'pandas']. Apply different case transformations (uppercase, lowercase, title case, etc.) to each element."
   ]
  },
  {
   "cell_type": "code",
   "execution_count": 48,
   "id": "d103a5a5-d6e4-4f7f-9422-1432f79a4cf8",
   "metadata": {},
   "outputs": [
    {
     "name": "stdout",
     "output_type": "stream",
     "text": [
      "['python' 'numpy' 'pandas']\n"
     ]
    }
   ],
   "source": [
    "# create numpy array of string\n",
    "arr1 = np.array([\"python\",\"numpy\",\"pandas\"])\n",
    "print(arr1)"
   ]
  },
  {
   "cell_type": "code",
   "execution_count": 50,
   "id": "3326817c-562c-4f20-9b30-58ba856bc5fd",
   "metadata": {},
   "outputs": [
    {
     "name": "stdout",
     "output_type": "stream",
     "text": [
      "['PYTHON' 'NUMPY' 'PANDAS']\n"
     ]
    }
   ],
   "source": [
    "# transforming strings in uppercase\n",
    "result = np.char.upper(arr1)\n",
    "print(result)"
   ]
  },
  {
   "cell_type": "code",
   "execution_count": 51,
   "id": "73579338-25d3-4701-8084-5c04d3eee332",
   "metadata": {},
   "outputs": [
    {
     "name": "stdout",
     "output_type": "stream",
     "text": [
      "['python' 'numpy' 'pandas']\n"
     ]
    }
   ],
   "source": [
    "# transforming strings in lowercase\n",
    "result = np.char.lower(arr1)\n",
    "print(result)"
   ]
  },
  {
   "cell_type": "code",
   "execution_count": 52,
   "id": "d63acac6-b9f8-4f79-8615-0e1bf155adcb",
   "metadata": {},
   "outputs": [
    {
     "name": "stdout",
     "output_type": "stream",
     "text": [
      "['Python' 'Numpy' 'Pandas']\n"
     ]
    }
   ],
   "source": [
    "# transforming strings in title case\n",
    "result = np.char.capitalize(arr1)\n",
    "print(result)"
   ]
  },
  {
   "cell_type": "markdown",
   "id": "cc7fcab5-07a6-4c82-a92c-77d09d34a096",
   "metadata": {},
   "source": [
    "# 6. Generate a NumPy array of words. Insert a space between each character of every word in the array."
   ]
  },
  {
   "cell_type": "code",
   "execution_count": 53,
   "id": "6e1c9c47-51e8-44be-bd5d-972ebb2fd99a",
   "metadata": {},
   "outputs": [
    {
     "name": "stdout",
     "output_type": "stream",
     "text": [
      "['S a i f' 'S h u b h a m' 'A n k i t' 'K a r a n' 'A n u r a g']\n"
     ]
    }
   ],
   "source": [
    "# create a word array\n",
    "array_word = np.array([\"Saif\",\"Shubham\",\"Ankit\",\"Karan\",\"Anurag\"])\n",
    "\n",
    "# creating a function to insert space between each character\n",
    "def insert_space(words):\n",
    "    return ' '.join(words)\n",
    "\n",
    "result = np.vectorize(insert_space)(array_word)\n",
    "print(result)"
   ]
  },
  {
   "cell_type": "markdown",
   "id": "0762f77a-caf1-46fa-97ac-469107c07d4c",
   "metadata": {},
   "source": [
    "# 7. Create two 2D NumPy arrays and perform element-wise addition, subtraction, multiplication, and division."
   ]
  },
  {
   "cell_type": "code",
   "execution_count": 56,
   "id": "1d49a320-6b14-48cd-83a6-dfee2d52ac32",
   "metadata": {},
   "outputs": [
    {
     "name": "stdout",
     "output_type": "stream",
     "text": [
      "[[2 9 3]\n",
      " [9 2 7]\n",
      " [3 6 2]]\n",
      "[[9 9 4]\n",
      " [2 6 1]\n",
      " [3 2 5]]\n"
     ]
    }
   ],
   "source": [
    "# create 2D numpy array\n",
    "arr1 = np.random.randint(1,10,(3,3))\n",
    "arr2 = np.random.randint(1,10,(3,3))\n",
    "print(arr1)\n",
    "print(arr2)"
   ]
  },
  {
   "cell_type": "code",
   "execution_count": 57,
   "id": "d1961e99-f7a9-4f8e-a90c-395ad9ff6e27",
   "metadata": {},
   "outputs": [
    {
     "name": "stdout",
     "output_type": "stream",
     "text": [
      "[[11 18  7]\n",
      " [11  8  8]\n",
      " [ 6  8  7]]\n"
     ]
    }
   ],
   "source": [
    "#addition of arrays\n",
    "result = arr1 + arr2\n",
    "print(result)"
   ]
  },
  {
   "cell_type": "code",
   "execution_count": 58,
   "id": "e8339393-d0da-4998-b893-94f0fe1fea67",
   "metadata": {},
   "outputs": [
    {
     "name": "stdout",
     "output_type": "stream",
     "text": [
      "[[-7  0 -1]\n",
      " [ 7 -4  6]\n",
      " [ 0  4 -3]]\n"
     ]
    }
   ],
   "source": [
    "#subtraction of arrays\n",
    "result = arr1 - arr2\n",
    "print(result)"
   ]
  },
  {
   "cell_type": "code",
   "execution_count": 59,
   "id": "3918837f-bbb7-4292-87f4-9dd6db6f9d1d",
   "metadata": {},
   "outputs": [
    {
     "name": "stdout",
     "output_type": "stream",
     "text": [
      "[[18 81 12]\n",
      " [18 12  7]\n",
      " [ 9 12 10]]\n"
     ]
    }
   ],
   "source": [
    "#multiplication of arrays\n",
    "result = arr1 * arr2\n",
    "print(result)"
   ]
  },
  {
   "cell_type": "code",
   "execution_count": 60,
   "id": "ac6138b7-15f4-4486-9714-36efb1798d5c",
   "metadata": {},
   "outputs": [
    {
     "name": "stdout",
     "output_type": "stream",
     "text": [
      "[[0.22222222 1.         0.75      ]\n",
      " [4.5        0.33333333 7.        ]\n",
      " [1.         3.         0.4       ]]\n"
     ]
    }
   ],
   "source": [
    "#division of arrays\n",
    "result = arr1 / arr2\n",
    "print(result)"
   ]
  },
  {
   "cell_type": "markdown",
   "id": "d659253a-3760-47e9-a346-cd010ccae260",
   "metadata": {},
   "source": [
    "# 8. Use NumPy to create a 5x5 identity matrix, then extract its diagonal elements."
   ]
  },
  {
   "cell_type": "code",
   "execution_count": 65,
   "id": "a1903c2b-334c-4322-8f39-e0bb075a0f03",
   "metadata": {},
   "outputs": [
    {
     "name": "stdout",
     "output_type": "stream",
     "text": [
      "identity matrix:\n",
      "[[1. 0. 0. 0. 0.]\n",
      " [0. 1. 0. 0. 0.]\n",
      " [0. 0. 1. 0. 0.]\n",
      " [0. 0. 0. 1. 0.]\n",
      " [0. 0. 0. 0. 1.]]\n",
      "diagonal element:\n",
      "[1. 1. 1. 1. 1.]\n"
     ]
    }
   ],
   "source": [
    "# create 5x5 identity matrix\n",
    "identity_matrix = np.eye(5)\n",
    "print(\"identity matrix:\")\n",
    "print(identity_matrix)\n",
    "\n",
    "# extract diagonal elements\n",
    "diagonal_element = np.diagonal(identity_matrix)\n",
    "print(\"diagonal element:\")\n",
    "print(diagonal_element)"
   ]
  },
  {
   "cell_type": "markdown",
   "id": "39b66b31-2820-46b9-b3d0-8f8426b2ca23",
   "metadata": {},
   "source": [
    "# 9. Generate a NumPy array of 100 random integers between 0 and 1000. Find and display all prime numbers in this array."
   ]
  },
  {
   "cell_type": "code",
   "execution_count": 67,
   "id": "5c908463-a5ae-41ab-bb7a-09d88fc02ec5",
   "metadata": {},
   "outputs": [
    {
     "name": "stdout",
     "output_type": "stream",
     "text": [
      "[839  11 443 881 863 809 701 983 967 479 353 397 367 359 251 919 443  67]\n"
     ]
    }
   ],
   "source": [
    "# create numpy array between 0 to 1000 of size 100\n",
    "arr1 = np.random.randint(0,1000,size = 100)\n",
    "\n",
    "# create a function to check prime number\n",
    "def is_prime(n):\n",
    "    if n <= 1:\n",
    "        return False\n",
    "    for i in range(2, int(n**0.5) + 1):\n",
    "        if n % i == 0:\n",
    "            return False\n",
    "    return True\n",
    "\n",
    "prime_numbers = np.array([num for num in arr1 if is_prime(num)])\n",
    "print(prime_numbers)"
   ]
  },
  {
   "cell_type": "markdown",
   "id": "104be222-52ce-490c-b37e-138352f5fb5e",
   "metadata": {},
   "source": [
    "# 10. Create a NumPy array representing daily temperatures for a month. Calculate and display the weekly averages."
   ]
  },
  {
   "cell_type": "code",
   "execution_count": 84,
   "id": "d6bc74cc-35c2-45e1-a13f-6497fba572b0",
   "metadata": {},
   "outputs": [
    {
     "name": "stdout",
     "output_type": "stream",
     "text": [
      "[18.25 13.25 11.25 13.5  10.   14.75 17.  ]\n"
     ]
    }
   ],
   "source": [
    "# create a numpy array daily temperatures for\n",
    "arr1 = np.random.randint(1,35,size = 28)\n",
    "\n",
    "# calculating weekly temperatures\n",
    "arr2 = arr1.reshape(4,7)\n",
    "result = np.mean(arr2, axis = 0)\n",
    "print(result)"
   ]
  },
  {
   "cell_type": "code",
   "execution_count": null,
   "id": "51720ffe-1a55-4cd9-9797-9d3fcc6c62d1",
   "metadata": {},
   "outputs": [],
   "source": []
  },
  {
   "cell_type": "code",
   "execution_count": null,
   "id": "214e6d02-024f-471a-a86a-baa807a2876d",
   "metadata": {},
   "outputs": [],
   "source": []
  }
 ],
 "metadata": {
  "kernelspec": {
   "display_name": "Python 3 (ipykernel)",
   "language": "python",
   "name": "python3"
  },
  "language_info": {
   "codemirror_mode": {
    "name": "ipython",
    "version": 3
   },
   "file_extension": ".py",
   "mimetype": "text/x-python",
   "name": "python",
   "nbconvert_exporter": "python",
   "pygments_lexer": "ipython3",
   "version": "3.12.5"
  }
 },
 "nbformat": 4,
 "nbformat_minor": 5
}
